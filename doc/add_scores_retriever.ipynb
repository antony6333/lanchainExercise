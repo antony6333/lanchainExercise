{
 "cells": [
  {
   "metadata": {},
   "cell_type": "markdown",
   "source": [
    "## add scores to retriever\n",
    "---\n",
    "在檢索系統(retriever)的搜索結果中加入相似性分數有以下幾點重要好處：\n",
    "+ 質量評估：分數能幫助評估每個文檔與查詢的相關程度，讓你能夠評估檢索質量。\n",
    "+ 排序和過濾：可以實施基於閾值的過濾，排除低相關性文檔或按相關性排序結果。\n",
    "+ 透明度：通過顯示為什麼某些文檔被檢索出來，使檢索過程更加可解釋。\n",
    "+ 信心估計：幫助判斷在生成回應時對檢索信息的信任程度。\n",
    "+ 調試功能：在構建RAG應用程序時，如果結果不如預期，相似性分數提供關鍵的診斷信息。\n",
    "+ 更好的提示工程：可以在提示中包含相關性分數，幫助LLM優先考慮更相關的信息。\n",
    "+ 用戶體驗：在面向用戶的應用中，這些分數可以顯示給用戶，表明檢索信息的可信度。\n",
    "\n",
    "在MultiVectorRetriever的例子中，跟踪子文檔的分數特別有價值，因為它顯示了哪些特定文本片段觸發了父文檔的檢索，提供了對檢索過程更深入的洞察。\n",
    "\n",
    "---\n",
    "以下先建立測試用的 Chroma 向量數據庫，然後使用 `similarity_search_with_score` 方法來獲取相似性分數。接著，將這些分數添加到檢索器的結果中，以便在後續的處理中使用。"
   ],
   "id": "7e33c9af806e39fd"
  },
  {
   "metadata": {
    "ExecuteTime": {
     "end_time": "2025-03-06T00:43:47.374390Z",
     "start_time": "2025-03-06T00:43:35.443240Z"
    }
   },
   "cell_type": "code",
   "source": [
    "import warnings\n",
    "warnings.filterwarnings(\"ignore\", category=UserWarning, module=\"onnxruntime\") #windows2016 < widows10\n",
    "from langchain_chroma import Chroma\n",
    "from langchain_core.documents import Document\n",
    "from langchain_openai import OpenAIEmbeddings\n",
    "\n",
    "from env_properties import read_properties\n",
    "\n",
    "docs = [\n",
    "    Document(\n",
    "        page_content=\"A bunch of scientists bring back dinosaurs and mayhem breaks loose\",\n",
    "        metadata={\"year\": 1993, \"rating\": 7.7, \"genre\": \"science fiction\"},\n",
    "    ),\n",
    "    Document(\n",
    "        page_content=\"Leo DiCaprio gets lost in a dream within a dream within a dream within a ...\",\n",
    "        metadata={\"year\": 2010, \"director\": \"Christopher Nolan\", \"rating\": 8.2},\n",
    "    ),\n",
    "    Document(\n",
    "        page_content=\"A psychologist / detective gets lost in a series of dreams within dreams within dreams and Inception reused the idea\",\n",
    "        metadata={\"year\": 2006, \"director\": \"Satoshi Kon\", \"rating\": 8.6},\n",
    "    ),\n",
    "    Document(\n",
    "        page_content=\"A bunch of normal-sized women are supremely wholesome and some men pine after them\",\n",
    "        metadata={\"year\": 2019, \"director\": \"Greta Gerwig\", \"rating\": 8.3},\n",
    "    ),\n",
    "    Document(\n",
    "        page_content=\"Toys come alive and have a blast doing so\",\n",
    "        metadata={\"year\": 1995, \"genre\": \"animated\"},\n",
    "    ),\n",
    "    Document(\n",
    "        page_content=\"Three men walk into the Zone, three men walk out of the Zone\",\n",
    "        metadata={\n",
    "            \"year\": 1979,\n",
    "            \"director\": \"Andrei Tarkovsky\",\n",
    "            \"genre\": \"thriller\",\n",
    "            \"rating\": 9.9,\n",
    "        },\n",
    "    ),\n",
    "]\n",
    "\n",
    "properties = read_properties(\"../config.properties\")\n",
    "openai_api_key = properties.get(\"openai_api_key\")\n",
    "vectorstore = Chroma.from_documents(docs, embedding=OpenAIEmbeddings(model=\"text-embedding-3-small\", api_key=openai_api_key))"
   ],
   "id": "cfd568aad5354e38",
   "outputs": [],
   "execution_count": 1
  },
  {
   "metadata": {},
   "cell_type": "markdown",
   "source": [
    "## Retriever\n",
    "\n",
    "為了獲取分數，使用 `similarity_search_with_score` 方法。這樣可以獲取每個檢索到的文檔的相似性分數。\n",
    "加了 `@chain` 裝飾器的函數會創建一個 [Runnable](/docs/concepts/lcel)，可以像典型的檢索器一樣使用。\n"
   ],
   "id": "bfd2054627fc1a6e"
  },
  {
   "metadata": {
    "ExecuteTime": {
     "end_time": "2025-03-06T00:43:52.304156Z",
     "start_time": "2025-03-06T00:43:51.617804Z"
    }
   },
   "cell_type": "code",
   "source": [
    "from typing import List\n",
    "\n",
    "from langchain_core.documents import Document\n",
    "from langchain_core.runnables import chain\n",
    "\n",
    "\n",
    "@chain\n",
    "def retriever(query: str) -> List[Document]:\n",
    "    docs, scores = zip(*vectorstore.similarity_search_with_score(query))\n",
    "    for doc, score in zip(docs, scores):\n",
    "        doc.metadata[\"score\"] = score\n",
    "    return docs\n",
    "result = retriever.invoke(\"dinosaur\")\n",
    "print(result)"
   ],
   "id": "6cbbc77580b827d8",
   "outputs": [
    {
     "name": "stdout",
     "output_type": "stream",
     "text": [
      "(Document(id='c1eef9f0-b43f-4a61-bdb7-10f1ba98e4c4', metadata={'genre': 'science fiction', 'rating': 7.7, 'year': 1993, 'score': 0.9784544110298157}, page_content='A bunch of scientists bring back dinosaurs and mayhem breaks loose'), Document(id='37831d76-523e-4af5-afc8-4bcfb7094fec', metadata={'genre': 'animated', 'year': 1995, 'score': 1.503709316253662}, page_content='Toys come alive and have a blast doing so'), Document(id='8d299662-b6a6-4587-b3a9-ec6b64e13f63', metadata={'director': 'Christopher Nolan', 'rating': 8.2, 'year': 2010, 'score': 1.6437551975250244}, page_content='Leo DiCaprio gets lost in a dream within a dream within a dream within a ...'), Document(id='5f264fd4-9690-4f14-9252-e54b000da83b', metadata={'director': 'Satoshi Kon', 'rating': 8.6, 'year': 2006, 'score': 1.7278307676315308}, page_content='A psychologist / detective gets lost in a series of dreams within dreams within dreams and Inception reused the idea'))\n"
     ]
    }
   ],
   "execution_count": 2
  },
  {
   "metadata": {},
   "cell_type": "markdown",
   "source": [
    "## SelfQueryRetriever\n",
    "\n",
    "`SelfQueryRetriever` 將使用 LLM 生成一個潛在結構化的查詢--例如，它可以在通常基於語義相似性驅動的選擇之上構建檢索過濾器。請參閱 `self_query.ipynb` 獲取更多詳細信息。\n",
    "\n",
    "`SelfQueryRetriever` 包含了一個簡短的 (1 - 2 行) 方法 `_get_docs_with_query`，該方法執行 `vectorstore` 搜索。我們可以子類化 `SelfQueryRetriever` 並覆蓋此方法以傳播相似性分數。\n",
    "\n",
    "首先，我們需要按照 `self_query.ipynb` 建立一些元數據來進行過濾：\n"
   ],
   "id": "dd8491bcb9d1748"
  },
  {
   "metadata": {
    "ExecuteTime": {
     "end_time": "2025-03-06T00:45:07.538400Z",
     "start_time": "2025-03-06T00:45:05.772971Z"
    }
   },
   "cell_type": "code",
   "source": [
    "from langchain.chains.query_constructor.base import AttributeInfo\n",
    "from langchain_openai import ChatOpenAI\n",
    "\n",
    "metadata_field_info = [\n",
    "    AttributeInfo(\n",
    "        name=\"genre\",\n",
    "        description=\"The genre of the movie. One of ['science fiction', 'comedy', 'drama', 'thriller', 'romance', 'action', 'animated']\",\n",
    "        type=\"string\",\n",
    "    ),\n",
    "    AttributeInfo(\n",
    "        name=\"year\",\n",
    "        description=\"The year the movie was released\",\n",
    "        type=\"integer\",\n",
    "    ),\n",
    "    AttributeInfo(\n",
    "        name=\"director\",\n",
    "        description=\"The name of the movie director\",\n",
    "        type=\"string\",\n",
    "    ),\n",
    "    AttributeInfo(\n",
    "        name=\"rating\", description=\"A 1-10 rating for the movie\", type=\"float\"\n",
    "    ),\n",
    "]\n",
    "document_content_description = \"Brief summary of a movie\"\n",
    "llm = ChatOpenAI(temperature=0, openai_api_key=openai_api_key)"
   ],
   "id": "c686a305c1049068",
   "outputs": [],
   "execution_count": 3
  },
  {
   "metadata": {},
   "cell_type": "markdown",
   "source": [
    "將 `_get_docs_with_query` 方法覆蓋到 `SelfQueryRetriever` 中，使用 `similarity_search_with_score` 方法來獲取相似性分數。這樣，我們可以在檢索到的文檔中包含這些分數，並在後續的處理中使用它們。\n",
    "\n",
    "啟動這個檢索器時，將會在文檔的元數據中包含相似性分數。請注意，`SelfQueryRetriever` 的底層結構化查詢功能仍然保留。\n"
   ],
   "id": "902467af7b8121c6"
  },
  {
   "metadata": {
    "ExecuteTime": {
     "end_time": "2025-03-06T00:46:31.215443Z",
     "start_time": "2025-03-06T00:46:27.595213Z"
    }
   },
   "cell_type": "code",
   "source": [
    "from typing import Any, Dict\n",
    "from langchain.retrievers.self_query.base import SelfQueryRetriever\n",
    "\n",
    "class CustomSelfQueryRetriever(SelfQueryRetriever):\n",
    "    def _get_docs_with_query(\n",
    "        self, query: str, search_kwargs: Dict[str, Any]\n",
    "    ) -> List[Document]:\n",
    "        \"\"\"Get docs, adding score information.\"\"\"\n",
    "        docs, scores = zip(\n",
    "            *self.vectorstore.similarity_search_with_score(query, **search_kwargs)\n",
    "        )\n",
    "        for doc, score in zip(docs, scores):\n",
    "            doc.metadata[\"score\"] = score\n",
    "        return docs\n",
    "\n",
    "retriever = CustomSelfQueryRetriever.from_llm(\n",
    "    llm,\n",
    "    vectorstore,\n",
    "    document_content_description,\n",
    "    metadata_field_info,\n",
    ")\n",
    "result = retriever.invoke(\"dinosaur movie with rating less than 8\")\n",
    "print(result)"
   ],
   "id": "1900cedd9c48fb9c",
   "outputs": [
    {
     "name": "stdout",
     "output_type": "stream",
     "text": [
      "(Document(id='c1eef9f0-b43f-4a61-bdb7-10f1ba98e4c4', metadata={'genre': 'science fiction', 'rating': 7.7, 'year': 1993, 'score': 0.9784544110298157}, page_content='A bunch of scientists bring back dinosaurs and mayhem breaks loose'),)\n"
     ]
    }
   ],
   "execution_count": 4
  },
  {
   "metadata": {},
   "cell_type": "markdown",
   "source": [
    "## MultiVectorRetriever\n",
    "\n",
    "`MultiVectorRetriever`允許您將多個向量與單個文檔關聯。這在許多應用中都很有用。例如，我們可以索引較大文檔的小塊，並在塊上運行檢索，但在調用檢索器時返回較大的“父”文檔。 (見parent_document_retriever.ipynb)/)，`MultiVectorRetriever` 的子類，包含填充向量存儲以支持此操作的便捷方法。 進一步的應用程序詳細說明見 multi_vector.ipynb\n",
    "\n",
    "經由這個檢索器檢索的文檔將包含與其相關的子文檔的分數。這在許多應用中都很有用。例如，我們可以索引較大文檔的小塊，並在塊上運行檢索，但在調用檢索器時返回較大的“父”文檔。 (見parent_document_retriever.ipynb)/)，`MultiVectorRetriever` 的子類，包含填充向量存儲以支持此操作的便捷方法。 進一步的應用程序詳細說明見 multi_vector.ipynb\n",
    "\n",
    "首先，我們準備一些測試數據。我們生成假“整個文檔”，並將它們存儲在文檔存儲中；這裡我們將使用一個簡單的 [InMemoryStore](https://python.langchain.com/api_reference/core/stores/langchain_core.stores.InMemoryBaseStore.html)。\n",
    "\n",
    "然後加上一些假的\"sub-documents\" 到vector store。我們可以連結這些子文檔到父文檔，通過填充它的元數據中的 `\"doc_id\"` 鍵值。\n"
   ],
   "id": "d7cbbe98d372e248"
  },
  {
   "metadata": {
    "ExecuteTime": {
     "end_time": "2025-03-06T02:14:36.229300Z",
     "start_time": "2025-03-06T02:14:35.096296Z"
    }
   },
   "cell_type": "code",
   "source": [
    "from langchain.storage import InMemoryStore\n",
    "\n",
    "# The storage layer for the parent documents\n",
    "docstore = InMemoryStore()\n",
    "fake_whole_documents = [\n",
    "    (\"fake_id_1\", Document(page_content=\"fake whole document 1\")),\n",
    "    (\"fake_id_2\", Document(page_content=\"fake whole document 2\")),\n",
    "]\n",
    "docstore.mset(fake_whole_documents)\n",
    "\n",
    "docs = [\n",
    "    Document(\n",
    "        page_content=\"A snippet from a larger document discussing cats.\",\n",
    "        metadata={\"doc_id\": \"fake_id_1\"},  # This is the ID of the parent document\n",
    "    ),\n",
    "    Document(\n",
    "        page_content=\"A snippet from a larger document discussing discourse.\",\n",
    "        metadata={\"doc_id\": \"fake_id_1\"},  # This is the ID of the parent document\n",
    "    ),\n",
    "    Document(\n",
    "        page_content=\"A snippet from a larger document discussing chocolate.\",\n",
    "        metadata={\"doc_id\": \"fake_id_2\"},  # This is the ID of the parent document\n",
    "    ),\n",
    "]\n",
    "vectorstore.add_documents(docs)"
   ],
   "id": "7168a8f70d7c32fc",
   "outputs": [
    {
     "data": {
      "text/plain": [
       "['11cbaf95-fc10-4053-bc7b-29324532a69e',\n",
       " 'c0bfc8ca-1fbb-4e3f-a1f4-53313f712bc1',\n",
       " 'f4c0762e-b228-4868-9421-ef970cdd9859']"
      ]
     },
     "execution_count": 5,
     "metadata": {},
     "output_type": "execute_result"
    }
   ],
   "execution_count": 5
  },
  {
   "metadata": {},
   "cell_type": "markdown",
   "source": [
    "為了帶上這些相似性分數，我們將繼承 `MultiVectorRetriever` 並覆蓋其 `_get_relevant_documents` 方法。我們將進行兩個更改：\n",
    "\n",
    "1. 如上所述, 我們將使用 `similarity_search_with_score` 方法將相似性分數添加到相應的“子文檔”的元數據中\n",
    "2. 我們將在檢索的父文檔的元數據中包含這些子文檔的列表。這樣可以顯示哪些文本片段被檢索到，以及它們相應的相似性分數。"
   ],
   "id": "efd825bbdb788aea"
  },
  {
   "metadata": {
    "ExecuteTime": {
     "end_time": "2025-03-06T02:15:36.912538Z",
     "start_time": "2025-03-06T02:15:35.704483Z"
    }
   },
   "cell_type": "code",
   "source": [
    "from collections import defaultdict\n",
    "\n",
    "from langchain.retrievers import MultiVectorRetriever\n",
    "from langchain_core.callbacks import CallbackManagerForRetrieverRun\n",
    "\n",
    "class CustomMultiVectorRetriever(MultiVectorRetriever):\n",
    "    def _get_relevant_documents(\n",
    "        self, query: str, *, run_manager: CallbackManagerForRetrieverRun\n",
    "    ) -> List[Document]:\n",
    "        \"\"\"Get documents relevant to a query.\n",
    "        Args:\n",
    "            query: String to find relevant documents for\n",
    "            run_manager: The callbacks handler to use\n",
    "        Returns:\n",
    "            List of relevant documents\n",
    "        \"\"\"\n",
    "        results = self.vectorstore.similarity_search_with_score(\n",
    "            query, **self.search_kwargs\n",
    "        )\n",
    "\n",
    "        # Map doc_ids to list of sub-documents, adding scores to metadata\n",
    "        # defaultdict會創建一個默認字典，存取不存在的key值不會出錯\n",
    "        id_to_doc = defaultdict(list)\n",
    "        for doc, score in results:\n",
    "            doc_id = doc.metadata.get(\"doc_id\")\n",
    "            if doc_id:\n",
    "                doc.metadata[\"score\"] = score\n",
    "                id_to_doc[doc_id].append(doc)\n",
    "\n",
    "        # Fetch documents corresponding to doc_ids, retaining sub_docs in metadata\n",
    "        docs = []\n",
    "        for _id, sub_docs in id_to_doc.items():\n",
    "            docstore_docs = self.docstore.mget([_id])\n",
    "            if docstore_docs:\n",
    "                if doc := docstore_docs[0]:\n",
    "                    doc.metadata[\"sub_docs\"] = sub_docs\n",
    "                    docs.append(doc)\n",
    "        return docs\n",
    "\n",
    "retriever = CustomMultiVectorRetriever(vectorstore=vectorstore, docstore=docstore)\n",
    "result = retriever.invoke(\"cat\")\n",
    "print(result)\n"
   ],
   "id": "dc9c282d4948e019",
   "outputs": [
    {
     "name": "stdout",
     "output_type": "stream",
     "text": [
      "[Document(metadata={'sub_docs': [Document(id='11cbaf95-fc10-4053-bc7b-29324532a69e', metadata={'doc_id': 'fake_id_1', 'score': 1.1385878324508667}, page_content='A snippet from a larger document discussing cats.')]}, page_content='fake whole document 1')]\n"
     ]
    }
   ],
   "execution_count": 6
  }
 ],
 "metadata": {
  "kernelspec": {
   "display_name": "Python 3",
   "language": "python",
   "name": "python3"
  },
  "language_info": {
   "codemirror_mode": {
    "name": "ipython",
    "version": 2
   },
   "file_extension": ".py",
   "mimetype": "text/x-python",
   "name": "python",
   "nbconvert_exporter": "python",
   "pygments_lexer": "ipython2",
   "version": "2.7.6"
  }
 },
 "nbformat": 4,
 "nbformat_minor": 5
}
